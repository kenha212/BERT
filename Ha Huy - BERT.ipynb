{
  "cells": [
    {
      "cell_type": "markdown",
      "metadata": {
        "id": "9TnJztDZGw-n"
      },
      "source": [
        "# Sentiment classification with BERT"
      ]
    },
    {
      "cell_type": "markdown",
      "metadata": {
        "id": "_2VQo4bajwUU"
      },
      "source": [
        "`imdb_reviews` dataset is a large movie review dataset. This dataset is for binary sentiment classification containing a set of 25,000 highly polar movie reviews for training, and 25,000 for testing. All the reviews have either a *positive* or *negative* sentiment.\n",
        "Reference: http://ai.stanford.edu/~amaas/data/sentiment/\n",
        "\n",
        "Each data sample contains:\n",
        "* label (tf.int64)\n",
        "* text (tf.string)"
      ]
    },
    {
      "cell_type": "code",
      "execution_count": 30,
      "metadata": {
        "colab": {
          "base_uri": "https://localhost:8080/"
        },
        "collapsed": true,
        "id": "z682XYsrjkY9",
        "jupyter": {
          "outputs_hidden": true
        },
        "outputId": "715b8c1b-f02d-4057-fe38-29f286c3ce68",
        "tags": []
      },
      "outputs": [
        {
          "output_type": "stream",
          "name": "stdout",
          "text": [
            "Requirement already satisfied: tensorflow_datasets in /usr/local/lib/python3.10/dist-packages (4.9.2)\n",
            "Requirement already satisfied: absl-py in /usr/local/lib/python3.10/dist-packages (from tensorflow_datasets) (1.4.0)\n",
            "Requirement already satisfied: array-record in /usr/local/lib/python3.10/dist-packages (from tensorflow_datasets) (0.4.0)\n",
            "Requirement already satisfied: click in /usr/local/lib/python3.10/dist-packages (from tensorflow_datasets) (8.1.6)\n",
            "Requirement already satisfied: dm-tree in /usr/local/lib/python3.10/dist-packages (from tensorflow_datasets) (0.1.8)\n",
            "Requirement already satisfied: etils[enp,epath]>=0.9.0 in /usr/local/lib/python3.10/dist-packages (from tensorflow_datasets) (1.4.0)\n",
            "Requirement already satisfied: numpy in /usr/local/lib/python3.10/dist-packages (from tensorflow_datasets) (1.22.4)\n",
            "Requirement already satisfied: promise in /usr/local/lib/python3.10/dist-packages (from tensorflow_datasets) (2.3)\n",
            "Requirement already satisfied: protobuf>=3.20 in /usr/local/lib/python3.10/dist-packages (from tensorflow_datasets) (3.20.3)\n",
            "Requirement already satisfied: psutil in /usr/local/lib/python3.10/dist-packages (from tensorflow_datasets) (5.9.5)\n",
            "Requirement already satisfied: requests>=2.19.0 in /usr/local/lib/python3.10/dist-packages (from tensorflow_datasets) (2.27.1)\n",
            "Requirement already satisfied: tensorflow-metadata in /usr/local/lib/python3.10/dist-packages (from tensorflow_datasets) (1.13.1)\n",
            "Requirement already satisfied: termcolor in /usr/local/lib/python3.10/dist-packages (from tensorflow_datasets) (2.3.0)\n",
            "Requirement already satisfied: toml in /usr/local/lib/python3.10/dist-packages (from tensorflow_datasets) (0.10.2)\n",
            "Requirement already satisfied: tqdm in /usr/local/lib/python3.10/dist-packages (from tensorflow_datasets) (4.65.0)\n",
            "Requirement already satisfied: wrapt in /usr/local/lib/python3.10/dist-packages (from tensorflow_datasets) (1.14.1)\n",
            "Requirement already satisfied: importlib_resources in /usr/local/lib/python3.10/dist-packages (from etils[enp,epath]>=0.9.0->tensorflow_datasets) (6.0.0)\n",
            "Requirement already satisfied: typing_extensions in /usr/local/lib/python3.10/dist-packages (from etils[enp,epath]>=0.9.0->tensorflow_datasets) (4.5.0)\n",
            "Requirement already satisfied: zipp in /usr/local/lib/python3.10/dist-packages (from etils[enp,epath]>=0.9.0->tensorflow_datasets) (3.16.2)\n",
            "Requirement already satisfied: urllib3<1.27,>=1.21.1 in /usr/local/lib/python3.10/dist-packages (from requests>=2.19.0->tensorflow_datasets) (1.26.16)\n",
            "Requirement already satisfied: certifi>=2017.4.17 in /usr/local/lib/python3.10/dist-packages (from requests>=2.19.0->tensorflow_datasets) (2023.7.22)\n",
            "Requirement already satisfied: charset-normalizer~=2.0.0 in /usr/local/lib/python3.10/dist-packages (from requests>=2.19.0->tensorflow_datasets) (2.0.12)\n",
            "Requirement already satisfied: idna<4,>=2.5 in /usr/local/lib/python3.10/dist-packages (from requests>=2.19.0->tensorflow_datasets) (3.4)\n",
            "Requirement already satisfied: six in /usr/local/lib/python3.10/dist-packages (from promise->tensorflow_datasets) (1.16.0)\n",
            "Requirement already satisfied: googleapis-common-protos<2,>=1.52.0 in /usr/local/lib/python3.10/dist-packages (from tensorflow-metadata->tensorflow_datasets) (1.59.1)\n",
            "Requirement already satisfied: tensorflow_text in /usr/local/lib/python3.10/dist-packages (2.13.0)\n",
            "Requirement already satisfied: tensorflow-hub>=0.8.0 in /usr/local/lib/python3.10/dist-packages (from tensorflow_text) (0.14.0)\n",
            "Requirement already satisfied: tensorflow<2.14,>=2.13.0 in /usr/local/lib/python3.10/dist-packages (from tensorflow_text) (2.13.0)\n",
            "Requirement already satisfied: absl-py>=1.0.0 in /usr/local/lib/python3.10/dist-packages (from tensorflow<2.14,>=2.13.0->tensorflow_text) (1.4.0)\n",
            "Requirement already satisfied: astunparse>=1.6.0 in /usr/local/lib/python3.10/dist-packages (from tensorflow<2.14,>=2.13.0->tensorflow_text) (1.6.3)\n",
            "Requirement already satisfied: flatbuffers>=23.1.21 in /usr/local/lib/python3.10/dist-packages (from tensorflow<2.14,>=2.13.0->tensorflow_text) (23.5.26)\n",
            "Requirement already satisfied: gast<=0.4.0,>=0.2.1 in /usr/local/lib/python3.10/dist-packages (from tensorflow<2.14,>=2.13.0->tensorflow_text) (0.4.0)\n",
            "Requirement already satisfied: google-pasta>=0.1.1 in /usr/local/lib/python3.10/dist-packages (from tensorflow<2.14,>=2.13.0->tensorflow_text) (0.2.0)\n",
            "Requirement already satisfied: grpcio<2.0,>=1.24.3 in /usr/local/lib/python3.10/dist-packages (from tensorflow<2.14,>=2.13.0->tensorflow_text) (1.56.2)\n",
            "Requirement already satisfied: h5py>=2.9.0 in /usr/local/lib/python3.10/dist-packages (from tensorflow<2.14,>=2.13.0->tensorflow_text) (3.8.0)\n",
            "Requirement already satisfied: keras<2.14,>=2.13.1 in /usr/local/lib/python3.10/dist-packages (from tensorflow<2.14,>=2.13.0->tensorflow_text) (2.13.1)\n",
            "Requirement already satisfied: libclang>=13.0.0 in /usr/local/lib/python3.10/dist-packages (from tensorflow<2.14,>=2.13.0->tensorflow_text) (16.0.6)\n",
            "Requirement already satisfied: numpy<=1.24.3,>=1.22 in /usr/local/lib/python3.10/dist-packages (from tensorflow<2.14,>=2.13.0->tensorflow_text) (1.22.4)\n",
            "Requirement already satisfied: opt-einsum>=2.3.2 in /usr/local/lib/python3.10/dist-packages (from tensorflow<2.14,>=2.13.0->tensorflow_text) (3.3.0)\n",
            "Requirement already satisfied: packaging in /usr/local/lib/python3.10/dist-packages (from tensorflow<2.14,>=2.13.0->tensorflow_text) (23.1)\n",
            "Requirement already satisfied: protobuf!=4.21.0,!=4.21.1,!=4.21.2,!=4.21.3,!=4.21.4,!=4.21.5,<5.0.0dev,>=3.20.3 in /usr/local/lib/python3.10/dist-packages (from tensorflow<2.14,>=2.13.0->tensorflow_text) (3.20.3)\n",
            "Requirement already satisfied: setuptools in /usr/local/lib/python3.10/dist-packages (from tensorflow<2.14,>=2.13.0->tensorflow_text) (67.7.2)\n",
            "Requirement already satisfied: six>=1.12.0 in /usr/local/lib/python3.10/dist-packages (from tensorflow<2.14,>=2.13.0->tensorflow_text) (1.16.0)\n",
            "Requirement already satisfied: tensorboard<2.14,>=2.13 in /usr/local/lib/python3.10/dist-packages (from tensorflow<2.14,>=2.13.0->tensorflow_text) (2.13.0)\n",
            "Requirement already satisfied: tensorflow-estimator<2.14,>=2.13.0 in /usr/local/lib/python3.10/dist-packages (from tensorflow<2.14,>=2.13.0->tensorflow_text) (2.13.0)\n",
            "Requirement already satisfied: termcolor>=1.1.0 in /usr/local/lib/python3.10/dist-packages (from tensorflow<2.14,>=2.13.0->tensorflow_text) (2.3.0)\n",
            "Requirement already satisfied: typing-extensions<4.6.0,>=3.6.6 in /usr/local/lib/python3.10/dist-packages (from tensorflow<2.14,>=2.13.0->tensorflow_text) (4.5.0)\n",
            "Requirement already satisfied: wrapt>=1.11.0 in /usr/local/lib/python3.10/dist-packages (from tensorflow<2.14,>=2.13.0->tensorflow_text) (1.14.1)\n",
            "Requirement already satisfied: tensorflow-io-gcs-filesystem>=0.23.1 in /usr/local/lib/python3.10/dist-packages (from tensorflow<2.14,>=2.13.0->tensorflow_text) (0.32.0)\n",
            "Requirement already satisfied: wheel<1.0,>=0.23.0 in /usr/local/lib/python3.10/dist-packages (from astunparse>=1.6.0->tensorflow<2.14,>=2.13.0->tensorflow_text) (0.41.0)\n",
            "Requirement already satisfied: google-auth<3,>=1.6.3 in /usr/local/lib/python3.10/dist-packages (from tensorboard<2.14,>=2.13->tensorflow<2.14,>=2.13.0->tensorflow_text) (2.17.3)\n",
            "Requirement already satisfied: google-auth-oauthlib<1.1,>=0.5 in /usr/local/lib/python3.10/dist-packages (from tensorboard<2.14,>=2.13->tensorflow<2.14,>=2.13.0->tensorflow_text) (1.0.0)\n",
            "Requirement already satisfied: markdown>=2.6.8 in /usr/local/lib/python3.10/dist-packages (from tensorboard<2.14,>=2.13->tensorflow<2.14,>=2.13.0->tensorflow_text) (3.4.4)\n",
            "Requirement already satisfied: requests<3,>=2.21.0 in /usr/local/lib/python3.10/dist-packages (from tensorboard<2.14,>=2.13->tensorflow<2.14,>=2.13.0->tensorflow_text) (2.27.1)\n",
            "Requirement already satisfied: tensorboard-data-server<0.8.0,>=0.7.0 in /usr/local/lib/python3.10/dist-packages (from tensorboard<2.14,>=2.13->tensorflow<2.14,>=2.13.0->tensorflow_text) (0.7.1)\n",
            "Requirement already satisfied: werkzeug>=1.0.1 in /usr/local/lib/python3.10/dist-packages (from tensorboard<2.14,>=2.13->tensorflow<2.14,>=2.13.0->tensorflow_text) (2.3.6)\n",
            "Requirement already satisfied: cachetools<6.0,>=2.0.0 in /usr/local/lib/python3.10/dist-packages (from google-auth<3,>=1.6.3->tensorboard<2.14,>=2.13->tensorflow<2.14,>=2.13.0->tensorflow_text) (5.3.1)\n",
            "Requirement already satisfied: pyasn1-modules>=0.2.1 in /usr/local/lib/python3.10/dist-packages (from google-auth<3,>=1.6.3->tensorboard<2.14,>=2.13->tensorflow<2.14,>=2.13.0->tensorflow_text) (0.3.0)\n",
            "Requirement already satisfied: rsa<5,>=3.1.4 in /usr/local/lib/python3.10/dist-packages (from google-auth<3,>=1.6.3->tensorboard<2.14,>=2.13->tensorflow<2.14,>=2.13.0->tensorflow_text) (4.9)\n",
            "Requirement already satisfied: requests-oauthlib>=0.7.0 in /usr/local/lib/python3.10/dist-packages (from google-auth-oauthlib<1.1,>=0.5->tensorboard<2.14,>=2.13->tensorflow<2.14,>=2.13.0->tensorflow_text) (1.3.1)\n",
            "Requirement already satisfied: urllib3<1.27,>=1.21.1 in /usr/local/lib/python3.10/dist-packages (from requests<3,>=2.21.0->tensorboard<2.14,>=2.13->tensorflow<2.14,>=2.13.0->tensorflow_text) (1.26.16)\n",
            "Requirement already satisfied: certifi>=2017.4.17 in /usr/local/lib/python3.10/dist-packages (from requests<3,>=2.21.0->tensorboard<2.14,>=2.13->tensorflow<2.14,>=2.13.0->tensorflow_text) (2023.7.22)\n",
            "Requirement already satisfied: charset-normalizer~=2.0.0 in /usr/local/lib/python3.10/dist-packages (from requests<3,>=2.21.0->tensorboard<2.14,>=2.13->tensorflow<2.14,>=2.13.0->tensorflow_text) (2.0.12)\n",
            "Requirement already satisfied: idna<4,>=2.5 in /usr/local/lib/python3.10/dist-packages (from requests<3,>=2.21.0->tensorboard<2.14,>=2.13->tensorflow<2.14,>=2.13.0->tensorflow_text) (3.4)\n",
            "Requirement already satisfied: MarkupSafe>=2.1.1 in /usr/local/lib/python3.10/dist-packages (from werkzeug>=1.0.1->tensorboard<2.14,>=2.13->tensorflow<2.14,>=2.13.0->tensorflow_text) (2.1.3)\n",
            "Requirement already satisfied: pyasn1<0.6.0,>=0.4.6 in /usr/local/lib/python3.10/dist-packages (from pyasn1-modules>=0.2.1->google-auth<3,>=1.6.3->tensorboard<2.14,>=2.13->tensorflow<2.14,>=2.13.0->tensorflow_text) (0.5.0)\n",
            "Requirement already satisfied: oauthlib>=3.0.0 in /usr/local/lib/python3.10/dist-packages (from requests-oauthlib>=0.7.0->google-auth-oauthlib<1.1,>=0.5->tensorboard<2.14,>=2.13->tensorflow<2.14,>=2.13.0->tensorflow_text) (3.2.2)\n",
            "Requirement already satisfied: tensorflow_hub in /usr/local/lib/python3.10/dist-packages (0.14.0)\n",
            "Requirement already satisfied: numpy>=1.12.0 in /usr/local/lib/python3.10/dist-packages (from tensorflow_hub) (1.22.4)\n",
            "Requirement already satisfied: protobuf>=3.19.6 in /usr/local/lib/python3.10/dist-packages (from tensorflow_hub) (3.20.3)\n"
          ]
        }
      ],
      "source": [
        "# Download tensorflow datasets\n",
        "!pip install tensorflow_datasets\n",
        "\n",
        "# A dependency of the preprocessing for BERT inputs\n",
        "!pip install tensorflow_text\n",
        "!pip install tensorflow_hub"
      ]
    },
    {
      "cell_type": "code",
      "execution_count": 31,
      "metadata": {
        "id": "CrqfUUr3oQOr"
      },
      "outputs": [],
      "source": [
        "# Import libraries\n",
        "import numpy as np\n",
        "import matplotlib.pyplot as plt\n",
        "\n",
        "import tensorflow_datasets as tfds\n",
        "import tensorflow as tf\n",
        "from tensorflow import keras\n",
        "import tensorflow_hub as hub\n",
        "import tensorflow_text as text"
      ]
    },
    {
      "cell_type": "markdown",
      "metadata": {
        "id": "pRmMubr0jrE2"
      },
      "source": [
        "# Load the dataset\n"
      ]
    },
    {
      "cell_type": "code",
      "execution_count": 32,
      "metadata": {
        "colab": {
          "base_uri": "https://localhost:8080/"
        },
        "id": "SHRwRoP2nVHX",
        "outputId": "d736dca6-a012-42bb-d3be-a52099932757"
      },
      "outputs": [
        {
          "output_type": "stream",
          "name": "stdout",
          "text": [
            "Training set:  20000 samples\n",
            "Validation set:  5000 samples\n",
            "Test set:  25000 samples\n"
          ]
        }
      ],
      "source": [
        "# Load and split the data into training, validation and test data\n",
        "train_dataset, val_dataset, test_dataset = tfds.load(name=\"imdb_reviews\", split=('train[:80%]', 'train[80%:]', 'test'), as_supervised=True)\n",
        "\n",
        "print(\"Training set: \", len(train_dataset), \"samples\")\n",
        "print(\"Validation set: \", len(val_dataset), \"samples\")\n",
        "print(\"Test set: \", len(test_dataset), \"samples\")"
      ]
    },
    {
      "cell_type": "code",
      "execution_count": 33,
      "metadata": {
        "id": "dDsCaZCDYZgm",
        "colab": {
          "base_uri": "https://localhost:8080/"
        },
        "outputId": "5496ea7a-a6d5-4343-da55-040586fa0cb1"
      },
      "outputs": [
        {
          "output_type": "stream",
          "name": "stdout",
          "text": [
            "X_train shape: (20000,)\n",
            "y_train shape: (20000,)\n",
            "X_val shape: (5000,)\n",
            "y_val shape: (5000,)\n",
            "X_test shape: (25000,)\n",
            "y_test shape: (25000,)\n"
          ]
        }
      ],
      "source": [
        "### Convert Tensorflow Dataset to numpy arrays of feature vector X and label y\n",
        "\n",
        "# Convert training set\n",
        "train_ds_numpy = tfds.as_numpy(train_dataset) # Convert TF Dataset to an iterable of numpy array\n",
        "train_numpy = np.vstack(list(train_ds_numpy)) # Stack to full numpy array\n",
        "X_train = np.array(list(map(lambda x: x[0], train_numpy))) # Extract review (index 0) from numpy vector\n",
        "y_train = np.array(list(map(lambda x: x[1], train_numpy))).astype(np.int16) # Extract label (index 1) from numpy vector and convert grom string to number\n",
        "print(\"X_train shape: \" + str(X_train.shape))\n",
        "print(\"y_train shape: \" + str(y_train.shape))\n",
        "\n",
        "# Convert validation set\n",
        "val_ds_numpy = tfds.as_numpy(val_dataset) # Convert TF Dataset to an iterable of numpy array\n",
        "val_numpy = np.vstack(list(val_ds_numpy)) # Stack to full numpy array\n",
        "X_val = np.array(list(map(lambda x: x[0], val_numpy))) # Extract review (index 0) from numpy vector\n",
        "y_val = np.array(list(map(lambda x: x[1], val_numpy))).astype(np.int16) # Extract label (index 1) from numpy vector\n",
        "print(\"X_val shape: \" + str(X_val.shape))\n",
        "print(\"y_val shape: \" + str(y_val.shape))\n",
        "\n",
        "# Convert test set\n",
        "test_ds_numpy = tfds.as_numpy(test_dataset) # Convert TF Dataset to an iterable of numpy array\n",
        "test_numpy = np.vstack(list(test_ds_numpy)) # Stack to full numpy array\n",
        "X_test = np.array(list(map(lambda x: x[0], test_numpy))) # Extract review (index 0) from numpy vector\n",
        "y_test = np.array(list(map(lambda x: x[1], test_numpy))).astype(np.int16) # Extract label (index 1) from numpy vector\n",
        "print(\"X_test shape: \" + str(X_test.shape))\n",
        "print(\"y_test shape: \" + str(y_test.shape))"
      ]
    },
    {
      "cell_type": "code",
      "execution_count": 34,
      "metadata": {
        "cellView": "form",
        "id": "y8_ctG55-uTX",
        "tags": [],
        "colab": {
          "base_uri": "https://localhost:8080/"
        },
        "outputId": "ddd52871-a444-4d7a-9b5c-bd6a81907a60"
      },
      "outputs": [
        {
          "output_type": "stream",
          "name": "stdout",
          "text": [
            "BERT model selected           : https://tfhub.dev/tensorflow/small_bert/bert_en_uncased_L-4_H-128_A-2/1\n",
            "Preprocess model auto-selected: https://tfhub.dev/tensorflow/bert_en_uncased_preprocess/3\n"
          ]
        }
      ],
      "source": [
        "### Below are two examples of BERT models with corresponding preprocessings for use with them\n",
        "# Full list of BERT models supported by Tensorflow can be found at https://tfhub.dev/google/collections/bert/1\n",
        "\n",
        "# Mapping from name to URL of Bert models\n",
        "map_name_to_model = {\n",
        "    'small_bert/bert_en_uncased_L-4_H-128_A-2':\n",
        "        'https://tfhub.dev/tensorflow/small_bert/bert_en_uncased_L-4_H-128_A-2/1',\n",
        "}\n",
        "\n",
        "# Mapping from name to URL of respective processings for the Bert models\n",
        "map_name_to_preprocess = {\n",
        "    'small_bert/bert_en_uncased_L-4_H-128_A-2':\n",
        "        'https://tfhub.dev/tensorflow/bert_en_uncased_preprocess/3',\n",
        "}\n",
        "\n",
        "### Choose a model: Small BERT model for English language with L-4_H-128_A-2. This means the BERT model has:\n",
        "# - 4 layers, i.e., 4 Transformer-encoder blocks.\n",
        "# - Hidden states = 128.\n",
        "# - Attention heads = 2.\n",
        "# This Small BERT model is available at https://tfhub.dev/tensorflow/small_bert/bert_en_uncased_L-2_H-128_A-2/1\n",
        "bert_name = 'small_bert/bert_en_uncased_L-4_H-128_A-2'\n",
        "\n",
        "# Get URLs of model and processing from tfhub\n",
        "tfhub_model = map_name_to_model[bert_name]\n",
        "tfhub_preprocess = map_name_to_preprocess[bert_name]\n",
        "\n",
        "print('BERT model selected           : ' + str(tfhub_model))\n",
        "print('Preprocess model auto-selected: ' + str(tfhub_preprocess))"
      ]
    },
    {
      "cell_type": "markdown",
      "metadata": {
        "id": "-FYvQ0s8oQOw"
      },
      "source": [
        "# Preprocess data to match with BERT model input requirement"
      ]
    },
    {
      "cell_type": "code",
      "execution_count": 35,
      "metadata": {
        "id": "xrD0gQkhoQOw"
      },
      "outputs": [],
      "source": [
        "# Load the preprocessing module\n",
        "bert_preprocess = hub.KerasLayer(tfhub_preprocess)"
      ]
    },
    {
      "cell_type": "code",
      "source": [
        "### Analyze and understand the preprocessing module\n",
        "\n",
        "# Some sample text reviews\n",
        "sample_texts = ['It is a cool movie. The graphics and the animation are awesome.',\n",
        "                'The movie was really bad. I would not recommend it to anyone.']\n",
        "\n",
        "# Get the text reviews through the preprocessing module\n",
        "sample_texts_preprocessed = bert_preprocess(sample_texts)\n",
        "\n",
        "### Get outputs of the preprocessing module.\n",
        "# There are three outputs from the preprocessing that a BERT model would use: input_words_id, input_mask and input_type_ids\n",
        "# Note that the inputs are truncated to 128 tokens (words) for a fixed length.\n",
        "print('Keys: ' + str(list(sample_texts_preprocessed.keys())))\n",
        "\n",
        "# Shape of the input_words_id\n",
        "print('Shape: ' + str(sample_texts_preprocessed[\"input_word_ids\"].shape))\n",
        "\n",
        "# Content of the input_words_id\n",
        "print('Word Ids: ' + str(sample_texts_preprocessed[\"input_word_ids\"]))\n",
        "\n",
        "# Content of the input_mask\n",
        "print('Input Mask: ' + str(sample_texts_preprocessed[\"input_mask\"]))\n",
        "\n",
        "# Content of the input_type_ids\n",
        "print('Type Ids: ' + str(sample_texts_preprocessed[\"input_type_ids\"]))"
      ],
      "metadata": {
        "colab": {
          "base_uri": "https://localhost:8080/"
        },
        "id": "HLBVvhXSXnrr",
        "outputId": "70e6ee23-8658-44a9-f354-9e8b192311dd"
      },
      "execution_count": 36,
      "outputs": [
        {
          "output_type": "stream",
          "name": "stdout",
          "text": [
            "Keys: ['input_mask', 'input_type_ids', 'input_word_ids']\n",
            "Shape: (2, 128)\n",
            "Word Ids: tf.Tensor(\n",
            "[[  101  2009  2003  1037  4658  3185  1012  1996  8389  1998  1996  7284\n",
            "   2024 12476  1012   102     0     0     0     0     0     0     0     0\n",
            "      0     0     0     0     0     0     0     0     0     0     0     0\n",
            "      0     0     0     0     0     0     0     0     0     0     0     0\n",
            "      0     0     0     0     0     0     0     0     0     0     0     0\n",
            "      0     0     0     0     0     0     0     0     0     0     0     0\n",
            "      0     0     0     0     0     0     0     0     0     0     0     0\n",
            "      0     0     0     0     0     0     0     0     0     0     0     0\n",
            "      0     0     0     0     0     0     0     0     0     0     0     0\n",
            "      0     0     0     0     0     0     0     0     0     0     0     0\n",
            "      0     0     0     0     0     0     0     0]\n",
            " [  101  1996  3185  2001  2428  2919  1012  1045  2052  2025 16755  2009\n",
            "   2000  3087  1012   102     0     0     0     0     0     0     0     0\n",
            "      0     0     0     0     0     0     0     0     0     0     0     0\n",
            "      0     0     0     0     0     0     0     0     0     0     0     0\n",
            "      0     0     0     0     0     0     0     0     0     0     0     0\n",
            "      0     0     0     0     0     0     0     0     0     0     0     0\n",
            "      0     0     0     0     0     0     0     0     0     0     0     0\n",
            "      0     0     0     0     0     0     0     0     0     0     0     0\n",
            "      0     0     0     0     0     0     0     0     0     0     0     0\n",
            "      0     0     0     0     0     0     0     0     0     0     0     0\n",
            "      0     0     0     0     0     0     0     0]], shape=(2, 128), dtype=int32)\n",
            "Input Mask: tf.Tensor(\n",
            "[[1 1 1 1 1 1 1 1 1 1 1 1 1 1 1 1 0 0 0 0 0 0 0 0 0 0 0 0 0 0 0 0 0 0 0 0\n",
            "  0 0 0 0 0 0 0 0 0 0 0 0 0 0 0 0 0 0 0 0 0 0 0 0 0 0 0 0 0 0 0 0 0 0 0 0\n",
            "  0 0 0 0 0 0 0 0 0 0 0 0 0 0 0 0 0 0 0 0 0 0 0 0 0 0 0 0 0 0 0 0 0 0 0 0\n",
            "  0 0 0 0 0 0 0 0 0 0 0 0 0 0 0 0 0 0 0 0]\n",
            " [1 1 1 1 1 1 1 1 1 1 1 1 1 1 1 1 0 0 0 0 0 0 0 0 0 0 0 0 0 0 0 0 0 0 0 0\n",
            "  0 0 0 0 0 0 0 0 0 0 0 0 0 0 0 0 0 0 0 0 0 0 0 0 0 0 0 0 0 0 0 0 0 0 0 0\n",
            "  0 0 0 0 0 0 0 0 0 0 0 0 0 0 0 0 0 0 0 0 0 0 0 0 0 0 0 0 0 0 0 0 0 0 0 0\n",
            "  0 0 0 0 0 0 0 0 0 0 0 0 0 0 0 0 0 0 0 0]], shape=(2, 128), dtype=int32)\n",
            "Type Ids: tf.Tensor(\n",
            "[[0 0 0 0 0 0 0 0 0 0 0 0 0 0 0 0 0 0 0 0 0 0 0 0 0 0 0 0 0 0 0 0 0 0 0 0\n",
            "  0 0 0 0 0 0 0 0 0 0 0 0 0 0 0 0 0 0 0 0 0 0 0 0 0 0 0 0 0 0 0 0 0 0 0 0\n",
            "  0 0 0 0 0 0 0 0 0 0 0 0 0 0 0 0 0 0 0 0 0 0 0 0 0 0 0 0 0 0 0 0 0 0 0 0\n",
            "  0 0 0 0 0 0 0 0 0 0 0 0 0 0 0 0 0 0 0 0]\n",
            " [0 0 0 0 0 0 0 0 0 0 0 0 0 0 0 0 0 0 0 0 0 0 0 0 0 0 0 0 0 0 0 0 0 0 0 0\n",
            "  0 0 0 0 0 0 0 0 0 0 0 0 0 0 0 0 0 0 0 0 0 0 0 0 0 0 0 0 0 0 0 0 0 0 0 0\n",
            "  0 0 0 0 0 0 0 0 0 0 0 0 0 0 0 0 0 0 0 0 0 0 0 0 0 0 0 0 0 0 0 0 0 0 0 0\n",
            "  0 0 0 0 0 0 0 0 0 0 0 0 0 0 0 0 0 0 0 0]], shape=(2, 128), dtype=int32)\n"
          ]
        }
      ]
    },
    {
      "cell_type": "markdown",
      "metadata": {
        "id": "7lF1chDooQOx"
      },
      "source": [
        "# Load BERT model"
      ]
    },
    {
      "cell_type": "code",
      "execution_count": 37,
      "metadata": {
        "id": "zA-ZDRhZoQOx"
      },
      "outputs": [],
      "source": [
        "# Load the BERT model. This can be consider as an 'encoder'\n",
        "bert_model = hub.KerasLayer(tfhub_model)"
      ]
    },
    {
      "cell_type": "code",
      "execution_count": 38,
      "metadata": {
        "tags": [],
        "colab": {
          "base_uri": "https://localhost:8080/"
        },
        "id": "01B6Fr5PoQOx",
        "outputId": "711e0946-e797-4eb1-edb6-f01da949b0cf"
      },
      "outputs": [
        {
          "output_type": "stream",
          "name": "stdout",
          "text": [
            "Loaded BERT: https://tfhub.dev/tensorflow/small_bert/bert_en_uncased_L-4_H-128_A-2/1\n",
            "Pooled Outputs Shape: (2, 128)\n",
            "Pooled Outputs Values: tf.Tensor(\n",
            "[[ 5.74926510e-02  8.29617083e-01  2.21141815e-01 -9.07549977e-01\n",
            "   8.77506971e-01 -9.37170535e-03 -8.67895126e-01  9.30034101e-01\n",
            "   1.07965089e-01 -3.14920664e-01 -9.93551314e-01 -4.09096748e-01\n",
            "   9.98683155e-01  9.99570131e-01 -9.76822793e-01  8.29320669e-01\n",
            "   3.00475925e-01 -9.76671994e-01  9.66599107e-01 -9.95808959e-01\n",
            "   9.91097152e-01  9.91468728e-01 -7.10828364e-01  9.98033881e-01\n",
            "   9.98058319e-01  9.95148718e-01 -9.98793364e-01  5.59577122e-02\n",
            "   3.31256568e-01  9.79301453e-01  1.88552272e-02  6.05523169e-01\n",
            "  -9.93376076e-01 -4.56255525e-01 -9.97147202e-01  8.39755893e-01\n",
            "   1.01908341e-01 -1.32392064e-01  6.24565601e-01 -5.92307091e-01\n",
            "  -9.88178372e-01  7.48368442e-01  4.76031423e-01  6.41885251e-02\n",
            "   5.26422262e-01  9.93735373e-01  6.07452989e-01 -9.72289503e-01\n",
            "   8.06861185e-03  9.97892261e-01 -9.72344577e-01  8.67964849e-02\n",
            "  -3.60784560e-01 -9.97986019e-01  2.98858762e-01 -4.04493250e-02\n",
            "   8.73700738e-01 -8.95170391e-01  9.87100184e-01 -9.74266827e-01\n",
            "   9.95327711e-01  3.44231762e-02  9.29230526e-02 -9.99968946e-01\n",
            "   1.09903075e-01  6.07254624e-01 -8.08145285e-01  9.76669729e-01\n",
            "  -8.79300237e-01 -7.96113849e-01  9.81246173e-01  9.99495268e-01\n",
            "  -1.81567013e-01 -8.83887112e-01  9.95408058e-01 -6.20603442e-01\n",
            "  -6.71281740e-02 -1.28486440e-01 -1.50547296e-01 -1.75799965e-03\n",
            "   9.24505889e-01  7.26088226e-01  9.99256968e-01  9.51958477e-01\n",
            "   4.22714114e-01  4.94411230e-01 -9.98258054e-01 -9.95692194e-01\n",
            "   8.37959766e-01  5.09714723e-01  9.84091818e-01 -8.86190772e-01\n",
            "  -9.38482523e-01 -5.36773838e-02 -9.95357931e-01 -9.26398575e-01\n",
            "   9.43414569e-01  9.91256416e-01  4.55016673e-01  8.78682613e-01\n",
            "  -9.90921557e-01  7.29398072e-01  6.13016248e-01  8.40151682e-02\n",
            "   6.42674565e-01 -4.98451561e-01  9.97725308e-01  9.54576433e-01\n",
            "  -9.64036465e-01  9.97553170e-01 -9.63946700e-01  2.80299522e-02\n",
            "   9.16144013e-01 -9.91326690e-01  9.98517871e-01 -9.94895816e-01\n",
            "   5.45134902e-01 -1.06568187e-01 -1.35656344e-02  1.68196455e-01\n",
            "  -9.20479596e-01 -9.95809436e-01  9.95453954e-01  6.49316013e-02\n",
            "   9.97330666e-01  9.87074256e-01  6.17782712e-01  9.91941750e-01]\n",
            " [-2.18237378e-02  9.11819875e-01  8.71679306e-01 -6.98514521e-01\n",
            "   9.45872366e-01 -7.36578107e-02  8.96123648e-01  9.59007263e-01\n",
            "   4.06155083e-03 -3.13721359e-01 -9.99580741e-01 -6.07846141e-01\n",
            "   9.97871280e-01  9.96989667e-01 -4.53023523e-01  9.35970128e-01\n",
            "   3.92436951e-01 -9.65167105e-01  9.87380326e-01 -9.97036517e-01\n",
            "   8.40117633e-01  8.50697994e-01  6.57093048e-01  9.94032145e-01\n",
            "   9.88367677e-01  9.71023977e-01 -9.99330401e-01  6.50169924e-02\n",
            "   9.90155101e-01  9.81939495e-01 -9.33544361e-04  8.60404134e-01\n",
            "  -9.91916776e-01 -9.72033381e-01 -9.99246061e-01  7.18433559e-01\n",
            "   3.46211828e-02 -1.25336364e-01 -1.66297704e-01 -8.81101429e-01\n",
            "  -9.77354050e-01 -9.20165241e-01  8.45689714e-01  8.55378628e-01\n",
            "   9.30448711e-01  9.98499036e-01 -9.24438715e-01 -9.88692939e-01\n",
            "   1.16791008e-02  9.99518037e-01 -9.88041818e-01 -9.83288348e-01\n",
            "  -9.87326980e-01 -9.76068318e-01  7.35739529e-01 -9.52565745e-02\n",
            "   8.69807899e-01 -9.03089643e-01 -3.92150059e-02 -9.77859676e-01\n",
            "   9.96060312e-01  4.86376546e-02  4.20013443e-02 -9.99970794e-01\n",
            "   4.71939296e-02  8.52455020e-01 -9.34688926e-01  9.98146296e-01\n",
            "  -8.07225943e-01 -9.61077929e-01  9.99249697e-01  9.98321354e-01\n",
            "  -6.02587998e-01 -7.62756944e-01  9.89194393e-01  4.09983993e-01\n",
            "  -4.66132984e-02 -8.80856633e-01 -1.59705076e-02 -9.36852545e-02\n",
            "   9.86334026e-01  9.91554260e-01  9.99589980e-01  9.91636693e-01\n",
            "   9.57520679e-02  7.42847383e-01 -9.98724937e-01 -9.99327004e-01\n",
            "   9.95706558e-01  3.21957506e-02  5.31065226e-01 -9.18169737e-01\n",
            "  -9.94472802e-01 -6.53647840e-01 -9.95042384e-01 -7.84300268e-01\n",
            "   6.83154702e-01  9.83799040e-01  5.56357801e-01  9.37957942e-01\n",
            "  -9.72614884e-01  9.76197064e-01  8.90470743e-01  6.94538429e-02\n",
            "   9.58322346e-01  7.28991330e-01  9.98468220e-01  9.90115941e-01\n",
            "  -9.99722123e-01  9.90172207e-01 -9.99555111e-01 -5.59059344e-02\n",
            "   9.76007581e-01 -8.48674178e-01  9.98182952e-01 -9.92219388e-01\n",
            "   9.89994168e-01  9.59898591e-01  1.14144702e-02  9.87242937e-01\n",
            "  -7.26920009e-01 -9.79372621e-01  9.40138042e-01 -3.76765011e-03\n",
            "   9.99426842e-01  9.75931585e-01  6.15126193e-01  8.09410632e-01]], shape=(2, 128), dtype=float32)\n",
            "Sequence Outputs Shape: (2, 128, 128)\n",
            "Sequence Outputs Values: tf.Tensor(\n",
            "[[[ 0.73784965  0.6468414   1.4904901  ...  0.7170412   0.39639616\n",
            "    2.4403534 ]\n",
            "  [ 0.82598066  2.278494    2.7428224  ...  0.04711669 -0.20306677\n",
            "    0.41707635]\n",
            "  [ 1.8927286   2.3991027   2.530036   ...  1.2135599   0.5009977\n",
            "   -0.42372137]\n",
            "  ...\n",
            "  [ 0.9149519   0.67947525  3.0144296  ...  0.9499518   0.61819315\n",
            "    2.6098416 ]\n",
            "  [ 1.0355229   0.5342034   3.4464831  ...  0.8159932   0.0781073\n",
            "    2.3334985 ]\n",
            "  [ 0.60048616 -0.1359011   3.8240137  ...  0.7554917  -0.66331166\n",
            "    1.7184199 ]]\n",
            "\n",
            " [[ 0.8755345   1.0891194  -0.29904932 ...  0.3457279   0.35335958\n",
            "    2.2415688 ]\n",
            "  [ 1.9044834   1.2882807   2.7091234  ...  0.4765866   0.40065\n",
            "    1.3620956 ]\n",
            "  [ 2.702751    0.9061697   1.332027   ... -0.4199657  -0.3847281\n",
            "    2.6498637 ]\n",
            "  ...\n",
            "  [ 0.8990988   1.7010351   1.9842286  ...  0.64808387 -0.16329186\n",
            "    2.7198117 ]\n",
            "  [ 0.9655281   1.3556731   2.245623   ...  0.41998324 -0.6345882\n",
            "    2.6376522 ]\n",
            "  [ 0.66523826  0.47042987  2.3623686  ...  0.1806685  -0.87054515\n",
            "    2.2113419 ]]], shape=(2, 128, 128), dtype=float32)\n"
          ]
        }
      ],
      "source": [
        "### Analyze and understand the BERT model.\n",
        "\n",
        "# Get the output of preprocessing module through the BERT model (encoder)\n",
        "bert_results = bert_model(sample_texts_preprocessed)\n",
        "\n",
        "# Print the BERT model path on tfhub\n",
        "print('Loaded BERT: ' + str(tfhub_model))\n",
        "\n",
        "### The BERT models return a map with 3 important keys: pooled_output, sequence_output, encoder_outputs\n",
        "# pooled_output: represents each input sequence as a whole. The shape is [batch_size, hidden_state]. This can be seen as an embedding for the entire movie review.\n",
        "print('Pooled Outputs Shape: ' + str(bert_results[\"pooled_output\"].shape))\n",
        "print('Pooled Outputs Values: ' + str(bert_results[\"pooled_output\"]))\n",
        "\n",
        "# sequence_output: represents each input token in the context. The shape is [batch_size, seq_length, H]. This can be seen as a contextual embedding for every token (word) in the movie review.\n",
        "print('Sequence Outputs Shape: ' + str(bert_results[\"sequence_output\"].shape))\n",
        "print('Sequence Outputs Values: ' + str(bert_results[\"sequence_output\"]))\n",
        "\n",
        "# When the BERT model has several Transfomer-encoder blocks, encoder_outputs are the intermediate activations of the L Transformer blocks.\n",
        "# outputs[\"encoder_outputs\"][i] is a Tensor of shape [batch_size, seq_length, 1024] with the outputs of the i-th Transformer block, for 0 <= i < L.\n",
        "# The last value of the list is equal to sequence_output."
      ]
    },
    {
      "cell_type": "markdown",
      "metadata": {
        "id": "BuTZbrQMoQOy"
      },
      "source": [
        "# Build complete model using preprocessing module, BERT model and classification layers"
      ]
    },
    {
      "cell_type": "code",
      "execution_count": 54,
      "metadata": {
        "colab": {
          "base_uri": "https://localhost:8080/"
        },
        "id": "txVfZgugoQOy",
        "outputId": "56c71969-9aba-48a2-8057-61b0113da419"
      },
      "outputs": [
        {
          "output_type": "stream",
          "name": "stdout",
          "text": [
            "Model: \"BERT_complete_model\"\n",
            "__________________________________________________________________________________________________\n",
            " Layer (type)                Output Shape                 Param #   Connected to                  \n",
            "==================================================================================================\n",
            " text (InputLayer)           [(None,)]                    0         []                            \n",
            "                                                                                                  \n",
            " preprocessing (KerasLayer)  {'input_type_ids': (None,    0         ['text[0][0]']                \n",
            "                             128),                                                                \n",
            "                              'input_mask': (None, 128)                                           \n",
            "                             , 'input_word_ids': (None,                                           \n",
            "                              128)}                                                               \n",
            "                                                                                                  \n",
            " BERT_encoder (KerasLayer)   {'default': (None, 128),     4782465   ['preprocessing[0][0]',       \n",
            "                              'sequence_output': (None,              'preprocessing[0][1]',       \n",
            "                              128, 128),                             'preprocessing[0][2]']       \n",
            "                              'encoder_outputs': [(None                                           \n",
            "                             , 128, 128),                                                         \n",
            "                              (None, 128, 128),                                                   \n",
            "                              (None, 128, 128),                                                   \n",
            "                              (None, 128, 128)],                                                  \n",
            "                              'pooled_output': (None, 1                                           \n",
            "                             28)}                                                                 \n",
            "                                                                                                  \n",
            " concatenate_12 (Concatenat  (None, 128, 256)             0         ['BERT_encoder[0][3]',        \n",
            " e)                                                                  'BERT_encoder[0][4]']        \n",
            "                                                                                                  \n",
            " global_average_pooling1d_1  (None, 256)                  0         ['concatenate_12[0][0]']      \n",
            " 2 (GlobalAveragePooling1D)                                                                       \n",
            "                                                                                                  \n",
            " dense_23 (Dense)            (None, 128)                  32896     ['global_average_pooling1d_12[\n",
            "                                                                    0][0]']                       \n",
            "                                                                                                  \n",
            " dropout_23 (Dropout)        (None, 128)                  0         ['dense_23[0][0]']            \n",
            "                                                                                                  \n",
            " dense_24 (Dense)            (None, 128)                  16512     ['dropout_23[0][0]']          \n",
            "                                                                                                  \n",
            " dropout_24 (Dropout)        (None, 128)                  0         ['dense_24[0][0]']            \n",
            "                                                                                                  \n",
            " classifier (Dense)          (None, 1)                    129       ['dropout_24[0][0]']          \n",
            "                                                                                                  \n",
            "==================================================================================================\n",
            "Total params: 4832002 (18.43 MB)\n",
            "Trainable params: 4832001 (18.43 MB)\n",
            "Non-trainable params: 1 (1.00 Byte)\n",
            "__________________________________________________________________________________________________\n"
          ]
        }
      ],
      "source": [
        "import tensorflow as tf\n",
        "import tensorflow_hub as hub\n",
        "from tensorflow import keras\n",
        "\n",
        "def build_model():\n",
        "    text_input = keras.layers.Input(shape=(), dtype=tf.string, name='text')  # Define text input layer\n",
        "    preprocessing_layer = hub.KerasLayer(tfhub_preprocess, name='preprocessing')  # Define preprocessing layer\n",
        "    encoder_inputs = preprocessing_layer(text_input)  # Get the text input through the preprocessing layer. Output of this is input of Bert model (a.k.a. encoder)\n",
        "\n",
        "    # Define the BERT encoder with trainable set to True for fine-tuning\n",
        "    encoder = hub.KerasLayer(tfhub_model, trainable=True, name='BERT_encoder')\n",
        "\n",
        "    # Get all hidden states from each encoder layer\n",
        "    all_encoder_layers = encoder(encoder_inputs)['encoder_outputs']  # A list of hidden states from each layer\n",
        "\n",
        "    # Select outputs of the first two encoder layers (you can choose different combinations)\n",
        "    outputs_layers_1 = all_encoder_layers[0]\n",
        "    outputs_layers_2 = all_encoder_layers[1]\n",
        "    outputs_layers_3 = all_encoder_layers[2]\n",
        "    outputs_layers_4 = all_encoder_layers[3]\n",
        "\n",
        "\n",
        "    # Concatenate the outputs of the first two encoder layers along the last axis (axis=-1)\n",
        "    concatenated_outputs = keras.layers.Concatenate(axis=-1)([outputs_layers_3, outputs_layers_4])\n",
        "\n",
        "    pooled_concatenated_outputs = keras.layers.GlobalAveragePooling1D()(concatenated_outputs)\n",
        "    net = keras.layers.Dense(128, activation='relu')(pooled_concatenated_outputs)  # Add dense layer\n",
        "    net = keras.layers.Dropout(0.1)(net)  # Add dropout layer\n",
        "    net = keras.layers.Dense(128, activation='relu')(net)  # Add dense layer\n",
        "    net = keras.layers.Dropout(0.1)(net)  # Add dropout layer\n",
        "\n",
        "\n",
        "    net = keras.layers.Dense(1, activation='sigmoid', name='classifier')(net)  # Add binary classification output layer\n",
        "\n",
        "\n",
        "    return keras.Model(inputs=text_input, outputs=net, name=\"BERT_complete_model\")\n",
        "\n",
        "# Build the complete model\n",
        "model = build_model()\n",
        "\n",
        "# Print the model architecture\n",
        "model.summary()\n"
      ]
    },
    {
      "cell_type": "markdown",
      "metadata": {
        "id": "yvecP_6coQOz"
      },
      "source": [
        "# Training model"
      ]
    },
    {
      "cell_type": "code",
      "execution_count": 55,
      "metadata": {
        "colab": {
          "base_uri": "https://localhost:8080/"
        },
        "id": "2FXpsIWXoQOz",
        "outputId": "db96baa4-db83-448a-a889-268f4f34bf61"
      },
      "outputs": [
        {
          "output_type": "stream",
          "name": "stdout",
          "text": [
            "Epoch 1/4\n",
            "1250/1250 [==============================] - 153s 106ms/step - loss: 0.5032 - accuracy: 0.7469 - val_loss: 0.4122 - val_accuracy: 0.8144\n",
            "Epoch 2/4\n",
            "1250/1250 [==============================] - 104s 83ms/step - loss: 0.3822 - accuracy: 0.8293 - val_loss: 0.3816 - val_accuracy: 0.8312\n",
            "Epoch 3/4\n",
            "1250/1250 [==============================] - 104s 83ms/step - loss: 0.3024 - accuracy: 0.8714 - val_loss: 0.3949 - val_accuracy: 0.8274\n",
            "Epoch 4/4\n",
            "1250/1250 [==============================] - 107s 86ms/step - loss: 0.2310 - accuracy: 0.9072 - val_loss: 0.4188 - val_accuracy: 0.8270\n"
          ]
        }
      ],
      "source": [
        "# Compile the model\n",
        "model.compile(optimizer=tf.keras.optimizers.Adam(learning_rate = 5e-5),\n",
        "                         loss='binary_crossentropy',\n",
        "                         metrics=['accuracy'])\n",
        "\n",
        "# Train the model\n",
        "history = model.fit(X_train, y_train,\n",
        "                               epochs=4,\n",
        "                               batch_size = 16,\n",
        "                               validation_data=(X_val, y_val),\n",
        "                              )"
      ]
    },
    {
      "cell_type": "markdown",
      "source": [
        "# Evaluate model performance on test set"
      ],
      "metadata": {
        "id": "5lcE70HLtwLx"
      }
    },
    {
      "cell_type": "code",
      "execution_count": 56,
      "metadata": {
        "colab": {
          "base_uri": "https://localhost:8080/"
        },
        "id": "Po2r5Uywt8Is",
        "outputId": "14cbb711-f1da-417c-8271-f4a49eff647f"
      },
      "outputs": [
        {
          "output_type": "stream",
          "name": "stdout",
          "text": [
            "782/782 [==============================] - 83s 106ms/step - loss: 0.4683 - accuracy: 0.8114\n",
            "Test Loss: 0.46834108233451843\n",
            "Test Accuracy: 0.8114399909973145\n"
          ]
        }
      ],
      "source": [
        "# Evaluate the model on the test set\n",
        "test_loss, test_acc = model.evaluate(X_test, y_test)\n",
        "print('Test Loss:', test_loss)\n",
        "print('Test Accuracy:', test_acc)"
      ]
    },
    {
      "cell_type": "markdown",
      "source": [
        "# Plot model training performance over epochs"
      ],
      "metadata": {
        "id": "bGKyJTciuCY9"
      }
    },
    {
      "cell_type": "code",
      "source": [
        "# Initialize the plot\n",
        "fig, (ax1, ax2) = plt.subplots(1, 2, figsize=(15, 5))\n",
        "\n",
        "# Plot model loss during training\n",
        "ax1.plot(history.history[\"loss\"])\n",
        "ax1.plot(history.history[\"val_loss\"])\n",
        "ax1.legend([\"train\", \"val\"], loc=\"upper right\")\n",
        "ax1.set_xlabel(\"Epochs\")\n",
        "ax1.set_ylabel(\"Loss\")\n",
        "ax1.set_title(\"Model loss over epochs\")\n",
        "\n",
        "# Plot model accuracy during training\n",
        "ax2.plot(history.history[\"accuracy\"])\n",
        "ax2.plot(history.history[\"val_accuracy\"])\n",
        "ax2.legend([\"train\", \"val\"], loc=\"upper right\")\n",
        "ax2.set_xlabel(\"Epochs\")\n",
        "ax2.set_ylabel(\"Accuracy\")\n",
        "ax2.set_title(\"Model accuracy over epochs\")\n",
        "plt.show()"
      ],
      "metadata": {
        "id": "13UQ6db6tR2P",
        "colab": {
          "base_uri": "https://localhost:8080/",
          "height": 487
        },
        "outputId": "0f549509-49ab-49e9-d6a2-a4890d9efaa0"
      },
      "execution_count": 57,
      "outputs": [
        {
          "output_type": "display_data",
          "data": {
            "text/plain": [
              "<Figure size 1500x500 with 2 Axes>"
            ],
            "image/png": "[encoded data removed]"
          },
          "metadata": {}
        }
      ]
    },
    {
      "cell_type": "markdown",
      "source": [
        "# Predict some movie review samples"
      ],
      "metadata": {
        "id": "IgRCA_j0uaPl"
      }
    },
    {
      "cell_type": "code",
      "execution_count": 60,
      "metadata": {
        "id": "5y0meVsmulZd",
        "colab": {
          "base_uri": "https://localhost:8080/"
        },
        "outputId": "173724a9-3bf5-40e9-91c6-c46374e50790"
      },
      "outputs": [
        {
          "output_type": "stream",
          "name": "stdout",
          "text": [
            "1/1 [==============================] - 0s 42ms/step\n",
            "[0.9996613]\n",
            "[0.03891472]\n"
          ]
        }
      ],
      "source": [
        "# Make prediction on new text reviews\n",
        "sample_reviews = [('It is a cool movie. The graphics and the animation are awesome.'),\n",
        "                  ('Shitty film')]\n",
        "predictions = model.predict(np.array(sample_reviews))\n",
        "print(predictions[0])\n",
        "print(predictions[1])"
      ]
    }
  ],
  "metadata": {
    "accelerator": "GPU",
    "colab": {
      "provenance": []
    },
    "kernelspec": {
      "display_name": "Python 3 (ipykernel)",
      "language": "python",
      "name": "python3"
    },
    "language_info": {
      "codemirror_mode": {
        "name": "ipython",
        "version": 3
      },
      "file_extension": ".py",
      "mimetype": "text/x-python",
      "name": "python",
      "nbconvert_exporter": "python",
      "pygments_lexer": "ipython3",
      "version": "3.8.3"
    }
  },
  "nbformat": 4,
  "nbformat_minor": 0
}